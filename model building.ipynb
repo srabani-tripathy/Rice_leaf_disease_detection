{
 "cells": [
  {
   "cell_type": "code",
   "execution_count": 1,
   "id": "7b8831c2-44d9-4fee-919b-18003e15bf9e",
   "metadata": {},
   "outputs": [],
   "source": [
    "import tensorflow as tf\n",
    "from tensorflow.keras.utils import to_categorical\n",
    "import matplotlib.pyplot as plt\n",
    "import pandas as pd\n",
    "import seaborn as sns"
   ]
  },
  {
   "cell_type": "markdown",
   "id": "44098f23-c89d-4e27-9765-965998d6fb6b",
   "metadata": {},
   "source": [
    "#### Function to one-hot encode labels"
   ]
  },
  {
   "cell_type": "code",
   "execution_count": 2,
   "id": "f1d5e9bc-2363-48de-8012-7c2378b4f9b7",
   "metadata": {},
   "outputs": [],
   "source": [
    "def one_hot_encode(image, label):\n",
    "    label = tf.one_hot(label, depth=6)\n",
    "    return image, label"
   ]
  },
  {
   "cell_type": "markdown",
   "id": "0921e7bd-c89c-439d-ab7f-e5dd631b14ef",
   "metadata": {},
   "source": [
    "# Data Preprocessing"
   ]
  },
  {
   "cell_type": "markdown",
   "id": "d6364c78-c92e-4707-8e9d-a54682d19125",
   "metadata": {},
   "source": [
    "### Training image Preprocessing"
   ]
  },
  {
   "cell_type": "code",
   "execution_count": 3,
   "id": "1d888ff4-56e7-4bf3-8772-39ef201c3f39",
   "metadata": {},
   "outputs": [
    {
     "name": "stdout",
     "output_type": "stream",
     "text": [
      "Found 2100 files belonging to 6 classes.\n"
     ]
    }
   ],
   "source": [
    "training_set = tf.keras.utils.image_dataset_from_directory(\n",
    "    r\"C:\\Users\\srsin\\Downloads\\Compressed\\archive_2\\RiceLeafsDisease\\train\",\n",
    "    labels=\"inferred\",\n",
    "    label_mode=\"int\",\n",
    "    class_names=None,\n",
    "    color_mode=\"rgb\",\n",
    "    batch_size=32,\n",
    "    image_size=(128, 128),\n",
    "    shuffle=True,\n",
    "    seed=None,\n",
    "    validation_split=None,\n",
    "    subset=None,\n",
    "    interpolation=\"bilinear\",\n",
    "    follow_links=False,\n",
    "    crop_to_aspect_ratio=False,\n",
    "    pad_to_aspect_ratio=False,\n",
    "    verbose=True,\n",
    ")\n",
    "\n",
    "training_set = training_set.map(one_hot_encode)"
   ]
  },
  {
   "cell_type": "markdown",
   "id": "928be13b-c717-4941-b9de-af807080c6e1",
   "metadata": {},
   "source": [
    "### Validation Image Preprocessing"
   ]
  },
  {
   "cell_type": "code",
   "execution_count": 4,
   "id": "f976c6ef-0952-4964-99d3-65788c48109c",
   "metadata": {},
   "outputs": [
    {
     "name": "stdout",
     "output_type": "stream",
     "text": [
      "Found 528 files belonging to 6 classes.\n"
     ]
    }
   ],
   "source": [
    "validation_set = tf.keras.utils.image_dataset_from_directory(\n",
    "    r\"C:\\Users\\srsin\\Downloads\\Compressed\\archive_2\\RiceLeafsDisease\\validation\",\n",
    "    labels=\"inferred\",\n",
    "    label_mode=\"int\",\n",
    "    class_names=None,\n",
    "    color_mode=\"rgb\",\n",
    "    batch_size=32,\n",
    "    image_size=(128, 128),\n",
    "    shuffle=True,\n",
    "    seed=None,\n",
    "    validation_split=None,\n",
    "    subset=None,\n",
    "    interpolation=\"bilinear\",\n",
    "    follow_links=False,\n",
    "    crop_to_aspect_ratio=False,\n",
    "    pad_to_aspect_ratio=False,\n",
    "    verbose=True,\n",
    ")\n",
    "\n",
    "validation_set = validation_set.map(one_hot_encode)"
   ]
  },
  {
   "cell_type": "code",
   "execution_count": 5,
   "id": "7bf27c4d-de02-4893-82a3-39f20d617dce",
   "metadata": {},
   "outputs": [
    {
     "data": {
      "text/plain": [
       "<_MapDataset element_spec=(TensorSpec(shape=(None, 128, 128, 3), dtype=tf.float32, name=None), TensorSpec(shape=(None, 6), dtype=tf.float32, name=None))>"
      ]
     },
     "execution_count": 5,
     "metadata": {},
     "output_type": "execute_result"
    }
   ],
   "source": [
    "training_set"
   ]
  },
  {
   "cell_type": "code",
   "execution_count": 6,
   "id": "bef8f7bf-bab5-4341-9e94-bb8283bb416a",
   "metadata": {},
   "outputs": [
    {
     "name": "stdout",
     "output_type": "stream",
     "text": [
      "tf.Tensor(\n",
      "[[[[255.     255.     255.    ]\n",
      "   [255.     255.     255.    ]\n",
      "   [255.     255.     255.    ]\n",
      "   ...\n",
      "   [255.     255.     255.    ]\n",
      "   [255.     255.     255.    ]\n",
      "   [255.     255.     255.    ]]\n",
      "\n",
      "  [[255.     255.     255.    ]\n",
      "   [255.     255.     255.    ]\n",
      "   [255.     255.     255.    ]\n",
      "   ...\n",
      "   [255.     255.     255.    ]\n",
      "   [255.     255.     255.    ]\n",
      "   [255.     255.     255.    ]]\n",
      "\n",
      "  [[255.     255.     255.    ]\n",
      "   [255.     255.     255.    ]\n",
      "   [255.     255.     255.    ]\n",
      "   ...\n",
      "   [255.     255.     255.    ]\n",
      "   [255.     255.     255.    ]\n",
      "   [255.     255.     255.    ]]\n",
      "\n",
      "  ...\n",
      "\n",
      "  [[255.     255.     255.    ]\n",
      "   [255.     255.     255.    ]\n",
      "   [255.     255.     255.    ]\n",
      "   ...\n",
      "   [255.     255.     255.    ]\n",
      "   [255.     255.     255.    ]\n",
      "   [255.     255.     255.    ]]\n",
      "\n",
      "  [[255.     255.     255.    ]\n",
      "   [255.     255.     255.    ]\n",
      "   [255.     255.     255.    ]\n",
      "   ...\n",
      "   [255.     255.     255.    ]\n",
      "   [255.     255.     255.    ]\n",
      "   [255.     255.     255.    ]]\n",
      "\n",
      "  [[255.     255.     255.    ]\n",
      "   [255.     255.     255.    ]\n",
      "   [255.     255.     255.    ]\n",
      "   ...\n",
      "   [255.     255.     255.    ]\n",
      "   [255.     255.     255.    ]\n",
      "   [255.     255.     255.    ]]]\n",
      "\n",
      "\n",
      " [[[255.     255.     255.    ]\n",
      "   [255.     255.     255.    ]\n",
      "   [255.     255.     255.    ]\n",
      "   ...\n",
      "   [255.     255.     255.    ]\n",
      "   [255.     255.     255.    ]\n",
      "   [255.     255.     255.    ]]\n",
      "\n",
      "  [[255.     255.     255.    ]\n",
      "   [255.     255.     255.    ]\n",
      "   [255.     255.     255.    ]\n",
      "   ...\n",
      "   [255.     255.     255.    ]\n",
      "   [255.     255.     255.    ]\n",
      "   [255.     255.     255.    ]]\n",
      "\n",
      "  [[255.     255.     255.    ]\n",
      "   [255.     255.     255.    ]\n",
      "   [255.     255.     255.    ]\n",
      "   ...\n",
      "   [255.     255.     255.    ]\n",
      "   [255.     255.     255.    ]\n",
      "   [255.     255.     255.    ]]\n",
      "\n",
      "  ...\n",
      "\n",
      "  [[255.     255.     255.    ]\n",
      "   [255.     255.     255.    ]\n",
      "   [255.     255.     255.    ]\n",
      "   ...\n",
      "   [255.     255.     255.    ]\n",
      "   [255.     255.     255.    ]\n",
      "   [255.     255.     255.    ]]\n",
      "\n",
      "  [[255.     255.     255.    ]\n",
      "   [255.     255.     255.    ]\n",
      "   [255.     255.     255.    ]\n",
      "   ...\n",
      "   [255.     255.     255.    ]\n",
      "   [255.     255.     255.    ]\n",
      "   [255.     255.     255.    ]]\n",
      "\n",
      "  [[255.     255.     255.    ]\n",
      "   [255.     255.     255.    ]\n",
      "   [255.     255.     255.    ]\n",
      "   ...\n",
      "   [255.     255.     255.    ]\n",
      "   [255.     255.     255.    ]\n",
      "   [255.     255.     255.    ]]]\n",
      "\n",
      "\n",
      " [[[255.     255.     255.    ]\n",
      "   [255.     255.     255.    ]\n",
      "   [255.     255.     255.    ]\n",
      "   ...\n",
      "   [255.     255.     255.    ]\n",
      "   [255.     255.     255.    ]\n",
      "   [255.     255.     255.    ]]\n",
      "\n",
      "  [[255.     255.     255.    ]\n",
      "   [255.     255.     255.    ]\n",
      "   [255.     255.     255.    ]\n",
      "   ...\n",
      "   [255.     255.     255.    ]\n",
      "   [255.     255.     255.    ]\n",
      "   [255.     255.     255.    ]]\n",
      "\n",
      "  [[255.     255.     255.    ]\n",
      "   [255.     255.     255.    ]\n",
      "   [255.     255.     255.    ]\n",
      "   ...\n",
      "   [255.     255.     255.    ]\n",
      "   [255.     255.     255.    ]\n",
      "   [255.     255.     255.    ]]\n",
      "\n",
      "  ...\n",
      "\n",
      "  [[255.     255.     255.    ]\n",
      "   [255.     255.     255.    ]\n",
      "   [255.     255.     255.    ]\n",
      "   ...\n",
      "   [255.     255.     255.    ]\n",
      "   [255.     255.     255.    ]\n",
      "   [255.     255.     255.    ]]\n",
      "\n",
      "  [[255.     255.     255.    ]\n",
      "   [255.     255.     255.    ]\n",
      "   [255.     255.     255.    ]\n",
      "   ...\n",
      "   [255.     255.     255.    ]\n",
      "   [255.     255.     255.    ]\n",
      "   [255.     255.     255.    ]]\n",
      "\n",
      "  [[255.     255.     255.    ]\n",
      "   [255.     255.     255.    ]\n",
      "   [255.     255.     255.    ]\n",
      "   ...\n",
      "   [255.     255.     255.    ]\n",
      "   [255.     255.     255.    ]\n",
      "   [255.     255.     255.    ]]]\n",
      "\n",
      "\n",
      " ...\n",
      "\n",
      "\n",
      " [[[255.     255.     255.    ]\n",
      "   [255.     255.     255.    ]\n",
      "   [255.     255.     255.    ]\n",
      "   ...\n",
      "   [255.     255.     255.    ]\n",
      "   [255.     255.     255.    ]\n",
      "   [255.     255.     255.    ]]\n",
      "\n",
      "  [[255.     255.     255.    ]\n",
      "   [255.     255.     255.    ]\n",
      "   [255.     255.     255.    ]\n",
      "   ...\n",
      "   [255.     255.     255.    ]\n",
      "   [255.     255.     255.    ]\n",
      "   [255.     255.     255.    ]]\n",
      "\n",
      "  [[255.     255.     255.    ]\n",
      "   [255.     255.     255.    ]\n",
      "   [255.     255.     255.    ]\n",
      "   ...\n",
      "   [255.     255.     255.    ]\n",
      "   [255.     255.     255.    ]\n",
      "   [255.     255.     255.    ]]\n",
      "\n",
      "  ...\n",
      "\n",
      "  [[255.     255.     255.    ]\n",
      "   [255.     255.     255.    ]\n",
      "   [255.     255.     255.    ]\n",
      "   ...\n",
      "   [255.     255.     255.    ]\n",
      "   [255.     255.     255.    ]\n",
      "   [255.     255.     255.    ]]\n",
      "\n",
      "  [[255.     255.     255.    ]\n",
      "   [255.     255.     255.    ]\n",
      "   [255.     255.     255.    ]\n",
      "   ...\n",
      "   [255.     255.     255.    ]\n",
      "   [255.     255.     255.    ]\n",
      "   [255.     255.     255.    ]]\n",
      "\n",
      "  [[255.     255.     255.    ]\n",
      "   [255.     255.     255.    ]\n",
      "   [255.     255.     255.    ]\n",
      "   ...\n",
      "   [255.     255.     255.    ]\n",
      "   [255.     255.     255.    ]\n",
      "   [255.     255.     255.    ]]]\n",
      "\n",
      "\n",
      " [[[116.5    112.25    12.25  ]\n",
      "   [122.8125 123.8125  19.8125]\n",
      "   [107.9375 114.4375  19.6875]\n",
      "   ...\n",
      "   [205.75   212.75   231.75  ]\n",
      "   [205.5    212.5    231.5   ]\n",
      "   [208.875  215.875  234.875 ]]\n",
      "\n",
      "  [[148.5625 140.125   43.    ]\n",
      "   [114.25   112.25    11.25  ]\n",
      "   [114.4375 125.4375  20.4375]\n",
      "   ...\n",
      "   [203.5    211.5    224.5   ]\n",
      "   [205.25   212.25   231.25  ]\n",
      "   [203.4375 210.4375 229.4375]]\n",
      "\n",
      "  [[194.9375 180.5    123.8125]\n",
      "   [126.25   117.6875  21.125 ]\n",
      "   [111.6875 114.4375  12.9375]\n",
      "   ...\n",
      "   [207.25   215.25   228.25  ]\n",
      "   [203.4375 210.4375 228.875 ]\n",
      "   [205.     212.     231.    ]]\n",
      "\n",
      "  ...\n",
      "\n",
      "  [[229.     236.     246.    ]\n",
      "   [230.25   237.25   247.25  ]\n",
      "   [230.1875 237.1875 247.1875]\n",
      "   ...\n",
      "   [108.      92.      56.    ]\n",
      "   [103.5     87.5     51.5   ]\n",
      "   [109.25    93.25    57.25  ]]\n",
      "\n",
      "  [[234.     241.     251.    ]\n",
      "   [232.5625 239.5625 249.5625]\n",
      "   [231.5625 236.3125 247.0625]\n",
      "   ...\n",
      "   [111.4375  95.4375  60.9375]\n",
      "   [108.8125  92.8125  56.8125]\n",
      "   [104.8125  88.8125  52.8125]]\n",
      "\n",
      "  [[236.25   243.25   253.25  ]\n",
      "   [228.75   235.75   245.75  ]\n",
      "   [230.75   237.75   247.75  ]\n",
      "   ...\n",
      "   [112.0625  96.0625  63.0625]\n",
      "   [112.9375  97.9375  58.9375]\n",
      "   [106.      90.      54.    ]]]\n",
      "\n",
      "\n",
      " [[[248.5    253.5    246.5   ]\n",
      "   [255.     255.     255.    ]\n",
      "   [255.     255.     255.    ]\n",
      "   ...\n",
      "   [255.     255.     255.    ]\n",
      "   [255.     255.     255.    ]\n",
      "   [253.25   253.25   253.25  ]]\n",
      "\n",
      "  [[253.3125 254.0625 248.3125]\n",
      "   [255.     255.     255.    ]\n",
      "   [255.     255.     255.    ]\n",
      "   ...\n",
      "   [255.     255.     255.    ]\n",
      "   [255.     255.     255.    ]\n",
      "   [253.25   253.25   253.25  ]]\n",
      "\n",
      "  [[252.75   254.5    248.6875]\n",
      "   [255.     255.     255.    ]\n",
      "   [255.     255.     255.    ]\n",
      "   ...\n",
      "   [255.     255.     255.    ]\n",
      "   [255.     255.     255.    ]\n",
      "   [253.25   253.25   253.25  ]]\n",
      "\n",
      "  ...\n",
      "\n",
      "  [[255.     255.     255.    ]\n",
      "   [255.     255.     255.    ]\n",
      "   [255.     255.     255.    ]\n",
      "   ...\n",
      "   [255.     255.     255.    ]\n",
      "   [255.     255.     255.    ]\n",
      "   [255.     255.     255.    ]]\n",
      "\n",
      "  [[255.     255.     255.    ]\n",
      "   [255.     255.     255.    ]\n",
      "   [255.     255.     255.    ]\n",
      "   ...\n",
      "   [255.     255.     255.    ]\n",
      "   [255.     255.     255.    ]\n",
      "   [255.     255.     255.    ]]\n",
      "\n",
      "  [[255.     255.     255.    ]\n",
      "   [255.     255.     255.    ]\n",
      "   [255.     255.     255.    ]\n",
      "   ...\n",
      "   [255.     255.     255.    ]\n",
      "   [255.     255.     255.    ]\n",
      "   [255.     255.     255.    ]]]], shape=(32, 128, 128, 3), dtype=float32) (32, 128, 128, 3)\n",
      "tf.Tensor(\n",
      "[[0. 1. 0. 0. 0. 0.]\n",
      " [0. 0. 0. 0. 0. 1.]\n",
      " [0. 0. 0. 0. 1. 0.]\n",
      " [0. 1. 0. 0. 0. 0.]\n",
      " [0. 0. 0. 1. 0. 0.]\n",
      " [0. 1. 0. 0. 0. 0.]\n",
      " [0. 0. 0. 0. 0. 1.]\n",
      " [0. 0. 0. 1. 0. 0.]\n",
      " [0. 0. 0. 0. 0. 1.]\n",
      " [0. 0. 0. 0. 1. 0.]\n",
      " [0. 0. 1. 0. 0. 0.]\n",
      " [0. 0. 0. 0. 0. 1.]\n",
      " [0. 1. 0. 0. 0. 0.]\n",
      " [0. 1. 0. 0. 0. 0.]\n",
      " [0. 0. 0. 0. 1. 0.]\n",
      " [0. 0. 0. 1. 0. 0.]\n",
      " [0. 0. 0. 0. 0. 1.]\n",
      " [0. 0. 1. 0. 0. 0.]\n",
      " [1. 0. 0. 0. 0. 0.]\n",
      " [0. 0. 1. 0. 0. 0.]\n",
      " [0. 0. 1. 0. 0. 0.]\n",
      " [0. 0. 0. 0. 1. 0.]\n",
      " [1. 0. 0. 0. 0. 0.]\n",
      " [1. 0. 0. 0. 0. 0.]\n",
      " [0. 0. 0. 0. 1. 0.]\n",
      " [0. 1. 0. 0. 0. 0.]\n",
      " [0. 0. 0. 0. 0. 1.]\n",
      " [0. 0. 0. 1. 0. 0.]\n",
      " [0. 1. 0. 0. 0. 0.]\n",
      " [0. 0. 0. 0. 0. 1.]\n",
      " [0. 0. 1. 0. 0. 0.]\n",
      " [0. 0. 0. 1. 0. 0.]], shape=(32, 6), dtype=float32) (32, 6)\n"
     ]
    }
   ],
   "source": [
    "for x,y in training_set:\n",
    "    print(x,x.shape)\n",
    "    print(y,y.shape)\n",
    "    break"
   ]
  },
  {
   "cell_type": "markdown",
   "id": "63eb63e7-b51e-400e-99fc-b27e5ca3cf13",
   "metadata": {},
   "source": [
    "# Building Model"
   ]
  },
  {
   "cell_type": "code",
   "execution_count": 7,
   "id": "3a4ea6f8-95da-4f4c-9307-f96403e89a10",
   "metadata": {},
   "outputs": [],
   "source": [
    "from tensorflow.keras.layers import Dense,Conv2D,MaxPool2D,Flatten,Dropout\n",
    "from tensorflow.keras.models import Sequential\n",
    "from tensorflow.keras.optimizers import Adam\n",
    "from tensorflow.keras import regularizers"
   ]
  },
  {
   "cell_type": "code",
   "execution_count": 8,
   "id": "d8248231-2087-4bce-8f86-0a8115cb14bd",
   "metadata": {},
   "outputs": [],
   "source": [
    "model = Sequential()"
   ]
  },
  {
   "cell_type": "markdown",
   "id": "67920a8c-257a-4f1a-a67f-74ee5bd845df",
   "metadata": {},
   "source": [
    "#### building convulation layer"
   ]
  },
  {
   "cell_type": "code",
   "execution_count": 9,
   "id": "866ccffc-fb87-4007-a083-54881939eb1f",
   "metadata": {},
   "outputs": [
    {
     "name": "stderr",
     "output_type": "stream",
     "text": [
      "C:\\Users\\srsin\\AppData\\Roaming\\Python\\Python311\\site-packages\\keras\\src\\layers\\convolutional\\base_conv.py:99: UserWarning: Do not pass an `input_shape`/`input_dim` argument to a layer. When using Sequential models, prefer using an `Input(shape)` object as the first layer in the model instead.\n",
      "  super().__init__(\n"
     ]
    }
   ],
   "source": [
    "model.add(Conv2D(filters = 32, kernel_size=3,padding='same',activation='relu',input_shape=[128,128,3]))\n",
    "model.add(Conv2D(filters = 32, kernel_size=3,activation='relu'))\n",
    "model.add(MaxPool2D(pool_size=2,strides=2))"
   ]
  },
  {
   "cell_type": "code",
   "execution_count": 10,
   "id": "b7afb44e-3bb5-4bee-b52a-aa58da66e2b8",
   "metadata": {},
   "outputs": [],
   "source": [
    "model.add(Conv2D(filters = 64, kernel_size=3,padding='same',activation='relu'))\n",
    "model.add(Conv2D(filters = 64, kernel_size=3,activation='relu'))\n",
    "model.add(MaxPool2D(pool_size=2,strides=2))"
   ]
  },
  {
   "cell_type": "code",
   "execution_count": 11,
   "id": "19970023-e725-4b85-bd42-e29f62863f9d",
   "metadata": {},
   "outputs": [],
   "source": [
    "model.add(Conv2D(filters = 128, kernel_size=3,padding='same',activation='relu'))\n",
    "model.add(Conv2D(filters = 128, kernel_size=3,activation='relu'))\n",
    "model.add(MaxPool2D(pool_size=2,strides=2))"
   ]
  },
  {
   "cell_type": "code",
   "execution_count": 12,
   "id": "c71657f6-50ae-4ad4-aafc-9b279c10d8fa",
   "metadata": {},
   "outputs": [],
   "source": [
    "model.add(Conv2D(filters = 256, kernel_size=3,padding='same',activation='relu'))\n",
    "model.add(Conv2D(filters = 256, kernel_size=3,activation='relu'))\n",
    "model.add(MaxPool2D(pool_size=2,strides=2))"
   ]
  },
  {
   "cell_type": "code",
   "execution_count": 13,
   "id": "823e9dc9-6f73-4448-ab6b-96836316851f",
   "metadata": {},
   "outputs": [],
   "source": [
    "#model.add(Conv2D(filters = 512, kernel_size=3,padding='same',activation='relu'))\n",
    "#model.add(Conv2D(filters = 512, kernel_size=3,activation='relu'))\n",
    "#model.add(MaxPool2D(pool_size=2,strides=2))"
   ]
  },
  {
   "cell_type": "code",
   "execution_count": 14,
   "id": "d042757e-d853-4592-9aee-137987d58137",
   "metadata": {},
   "outputs": [],
   "source": [
    "#model.add(Dropout(0.25))"
   ]
  },
  {
   "cell_type": "code",
   "execution_count": 15,
   "id": "1dda13fa-66fa-4c77-a76d-ae8c56b7b0ee",
   "metadata": {},
   "outputs": [],
   "source": [
    "model.add(Flatten())\n",
    "model.add(Dropout(0.2))"
   ]
  },
  {
   "cell_type": "code",
   "execution_count": 16,
   "id": "917d8c02-040d-4fdf-a01d-8d270fe1a2e1",
   "metadata": {},
   "outputs": [],
   "source": [
    "model.add(Dense(units=256,activation='relu',kernel_regularizer=regularizers.l2(0.01)))"
   ]
  },
  {
   "cell_type": "code",
   "execution_count": 17,
   "id": "56083d5a-6dae-421a-aebf-e2cc63288160",
   "metadata": {},
   "outputs": [],
   "source": [
    "#model.add(Dropout(0.4))"
   ]
  },
  {
   "cell_type": "markdown",
   "id": "b99c20c6-2259-4e08-9934-0dbc3dde1127",
   "metadata": {},
   "source": [
    "#### output layer"
   ]
  },
  {
   "cell_type": "code",
   "execution_count": 18,
   "id": "d3479151-94a2-49d3-afdb-842ae3ca1ea4",
   "metadata": {},
   "outputs": [],
   "source": [
    "model.add(Dense(units=6,activation='softmax'))"
   ]
  },
  {
   "cell_type": "markdown",
   "id": "0c46cae4-6f0d-413e-99c9-7040d4c3de17",
   "metadata": {},
   "source": [
    "### Compiling Model"
   ]
  },
  {
   "cell_type": "code",
   "execution_count": 19,
   "id": "00a2d530-aad1-4dc4-ba0b-af87ae8e95d2",
   "metadata": {},
   "outputs": [],
   "source": [
    "model.compile(Adam(learning_rate = 1e-5),loss='categorical_crossentropy',metrics=['accuracy'])"
   ]
  },
  {
   "cell_type": "code",
   "execution_count": 20,
   "id": "ad99016a-9ed0-40bc-9076-53d6818c6305",
   "metadata": {},
   "outputs": [
    {
     "data": {
      "text/html": [
       "<pre style=\"white-space:pre;overflow-x:auto;line-height:normal;font-family:Menlo,'DejaVu Sans Mono',consolas,'Courier New',monospace\"><span style=\"font-weight: bold\">Model: \"sequential\"</span>\n",
       "</pre>\n"
      ],
      "text/plain": [
       "\u001b[1mModel: \"sequential\"\u001b[0m\n"
      ]
     },
     "metadata": {},
     "output_type": "display_data"
    },
    {
     "data": {
      "text/html": [
       "<pre style=\"white-space:pre;overflow-x:auto;line-height:normal;font-family:Menlo,'DejaVu Sans Mono',consolas,'Courier New',monospace\">┏━━━━━━━━━━━━━━━━━━━━━━━━━━━━━━━━━━━━━━┳━━━━━━━━━━━━━━━━━━━━━━━━━━━━━┳━━━━━━━━━━━━━━━━━┓\n",
       "┃<span style=\"font-weight: bold\"> Layer (type)                         </span>┃<span style=\"font-weight: bold\"> Output Shape                </span>┃<span style=\"font-weight: bold\">         Param # </span>┃\n",
       "┡━━━━━━━━━━━━━━━━━━━━━━━━━━━━━━━━━━━━━━╇━━━━━━━━━━━━━━━━━━━━━━━━━━━━━╇━━━━━━━━━━━━━━━━━┩\n",
       "│ conv2d (<span style=\"color: #0087ff; text-decoration-color: #0087ff\">Conv2D</span>)                      │ (<span style=\"color: #00d7ff; text-decoration-color: #00d7ff\">None</span>, <span style=\"color: #00af00; text-decoration-color: #00af00\">128</span>, <span style=\"color: #00af00; text-decoration-color: #00af00\">128</span>, <span style=\"color: #00af00; text-decoration-color: #00af00\">32</span>)        │             <span style=\"color: #00af00; text-decoration-color: #00af00\">896</span> │\n",
       "├──────────────────────────────────────┼─────────────────────────────┼─────────────────┤\n",
       "│ conv2d_1 (<span style=\"color: #0087ff; text-decoration-color: #0087ff\">Conv2D</span>)                    │ (<span style=\"color: #00d7ff; text-decoration-color: #00d7ff\">None</span>, <span style=\"color: #00af00; text-decoration-color: #00af00\">126</span>, <span style=\"color: #00af00; text-decoration-color: #00af00\">126</span>, <span style=\"color: #00af00; text-decoration-color: #00af00\">32</span>)        │           <span style=\"color: #00af00; text-decoration-color: #00af00\">9,248</span> │\n",
       "├──────────────────────────────────────┼─────────────────────────────┼─────────────────┤\n",
       "│ max_pooling2d (<span style=\"color: #0087ff; text-decoration-color: #0087ff\">MaxPooling2D</span>)         │ (<span style=\"color: #00d7ff; text-decoration-color: #00d7ff\">None</span>, <span style=\"color: #00af00; text-decoration-color: #00af00\">63</span>, <span style=\"color: #00af00; text-decoration-color: #00af00\">63</span>, <span style=\"color: #00af00; text-decoration-color: #00af00\">32</span>)          │               <span style=\"color: #00af00; text-decoration-color: #00af00\">0</span> │\n",
       "├──────────────────────────────────────┼─────────────────────────────┼─────────────────┤\n",
       "│ conv2d_2 (<span style=\"color: #0087ff; text-decoration-color: #0087ff\">Conv2D</span>)                    │ (<span style=\"color: #00d7ff; text-decoration-color: #00d7ff\">None</span>, <span style=\"color: #00af00; text-decoration-color: #00af00\">63</span>, <span style=\"color: #00af00; text-decoration-color: #00af00\">63</span>, <span style=\"color: #00af00; text-decoration-color: #00af00\">64</span>)          │          <span style=\"color: #00af00; text-decoration-color: #00af00\">18,496</span> │\n",
       "├──────────────────────────────────────┼─────────────────────────────┼─────────────────┤\n",
       "│ conv2d_3 (<span style=\"color: #0087ff; text-decoration-color: #0087ff\">Conv2D</span>)                    │ (<span style=\"color: #00d7ff; text-decoration-color: #00d7ff\">None</span>, <span style=\"color: #00af00; text-decoration-color: #00af00\">61</span>, <span style=\"color: #00af00; text-decoration-color: #00af00\">61</span>, <span style=\"color: #00af00; text-decoration-color: #00af00\">64</span>)          │          <span style=\"color: #00af00; text-decoration-color: #00af00\">36,928</span> │\n",
       "├──────────────────────────────────────┼─────────────────────────────┼─────────────────┤\n",
       "│ max_pooling2d_1 (<span style=\"color: #0087ff; text-decoration-color: #0087ff\">MaxPooling2D</span>)       │ (<span style=\"color: #00d7ff; text-decoration-color: #00d7ff\">None</span>, <span style=\"color: #00af00; text-decoration-color: #00af00\">30</span>, <span style=\"color: #00af00; text-decoration-color: #00af00\">30</span>, <span style=\"color: #00af00; text-decoration-color: #00af00\">64</span>)          │               <span style=\"color: #00af00; text-decoration-color: #00af00\">0</span> │\n",
       "├──────────────────────────────────────┼─────────────────────────────┼─────────────────┤\n",
       "│ conv2d_4 (<span style=\"color: #0087ff; text-decoration-color: #0087ff\">Conv2D</span>)                    │ (<span style=\"color: #00d7ff; text-decoration-color: #00d7ff\">None</span>, <span style=\"color: #00af00; text-decoration-color: #00af00\">30</span>, <span style=\"color: #00af00; text-decoration-color: #00af00\">30</span>, <span style=\"color: #00af00; text-decoration-color: #00af00\">128</span>)         │          <span style=\"color: #00af00; text-decoration-color: #00af00\">73,856</span> │\n",
       "├──────────────────────────────────────┼─────────────────────────────┼─────────────────┤\n",
       "│ conv2d_5 (<span style=\"color: #0087ff; text-decoration-color: #0087ff\">Conv2D</span>)                    │ (<span style=\"color: #00d7ff; text-decoration-color: #00d7ff\">None</span>, <span style=\"color: #00af00; text-decoration-color: #00af00\">28</span>, <span style=\"color: #00af00; text-decoration-color: #00af00\">28</span>, <span style=\"color: #00af00; text-decoration-color: #00af00\">128</span>)         │         <span style=\"color: #00af00; text-decoration-color: #00af00\">147,584</span> │\n",
       "├──────────────────────────────────────┼─────────────────────────────┼─────────────────┤\n",
       "│ max_pooling2d_2 (<span style=\"color: #0087ff; text-decoration-color: #0087ff\">MaxPooling2D</span>)       │ (<span style=\"color: #00d7ff; text-decoration-color: #00d7ff\">None</span>, <span style=\"color: #00af00; text-decoration-color: #00af00\">14</span>, <span style=\"color: #00af00; text-decoration-color: #00af00\">14</span>, <span style=\"color: #00af00; text-decoration-color: #00af00\">128</span>)         │               <span style=\"color: #00af00; text-decoration-color: #00af00\">0</span> │\n",
       "├──────────────────────────────────────┼─────────────────────────────┼─────────────────┤\n",
       "│ conv2d_6 (<span style=\"color: #0087ff; text-decoration-color: #0087ff\">Conv2D</span>)                    │ (<span style=\"color: #00d7ff; text-decoration-color: #00d7ff\">None</span>, <span style=\"color: #00af00; text-decoration-color: #00af00\">14</span>, <span style=\"color: #00af00; text-decoration-color: #00af00\">14</span>, <span style=\"color: #00af00; text-decoration-color: #00af00\">256</span>)         │         <span style=\"color: #00af00; text-decoration-color: #00af00\">295,168</span> │\n",
       "├──────────────────────────────────────┼─────────────────────────────┼─────────────────┤\n",
       "│ conv2d_7 (<span style=\"color: #0087ff; text-decoration-color: #0087ff\">Conv2D</span>)                    │ (<span style=\"color: #00d7ff; text-decoration-color: #00d7ff\">None</span>, <span style=\"color: #00af00; text-decoration-color: #00af00\">12</span>, <span style=\"color: #00af00; text-decoration-color: #00af00\">12</span>, <span style=\"color: #00af00; text-decoration-color: #00af00\">256</span>)         │         <span style=\"color: #00af00; text-decoration-color: #00af00\">590,080</span> │\n",
       "├──────────────────────────────────────┼─────────────────────────────┼─────────────────┤\n",
       "│ max_pooling2d_3 (<span style=\"color: #0087ff; text-decoration-color: #0087ff\">MaxPooling2D</span>)       │ (<span style=\"color: #00d7ff; text-decoration-color: #00d7ff\">None</span>, <span style=\"color: #00af00; text-decoration-color: #00af00\">6</span>, <span style=\"color: #00af00; text-decoration-color: #00af00\">6</span>, <span style=\"color: #00af00; text-decoration-color: #00af00\">256</span>)           │               <span style=\"color: #00af00; text-decoration-color: #00af00\">0</span> │\n",
       "├──────────────────────────────────────┼─────────────────────────────┼─────────────────┤\n",
       "│ flatten (<span style=\"color: #0087ff; text-decoration-color: #0087ff\">Flatten</span>)                    │ (<span style=\"color: #00d7ff; text-decoration-color: #00d7ff\">None</span>, <span style=\"color: #00af00; text-decoration-color: #00af00\">9216</span>)                │               <span style=\"color: #00af00; text-decoration-color: #00af00\">0</span> │\n",
       "├──────────────────────────────────────┼─────────────────────────────┼─────────────────┤\n",
       "│ dropout (<span style=\"color: #0087ff; text-decoration-color: #0087ff\">Dropout</span>)                    │ (<span style=\"color: #00d7ff; text-decoration-color: #00d7ff\">None</span>, <span style=\"color: #00af00; text-decoration-color: #00af00\">9216</span>)                │               <span style=\"color: #00af00; text-decoration-color: #00af00\">0</span> │\n",
       "├──────────────────────────────────────┼─────────────────────────────┼─────────────────┤\n",
       "│ dense (<span style=\"color: #0087ff; text-decoration-color: #0087ff\">Dense</span>)                        │ (<span style=\"color: #00d7ff; text-decoration-color: #00d7ff\">None</span>, <span style=\"color: #00af00; text-decoration-color: #00af00\">256</span>)                 │       <span style=\"color: #00af00; text-decoration-color: #00af00\">2,359,552</span> │\n",
       "├──────────────────────────────────────┼─────────────────────────────┼─────────────────┤\n",
       "│ dense_1 (<span style=\"color: #0087ff; text-decoration-color: #0087ff\">Dense</span>)                      │ (<span style=\"color: #00d7ff; text-decoration-color: #00d7ff\">None</span>, <span style=\"color: #00af00; text-decoration-color: #00af00\">6</span>)                   │           <span style=\"color: #00af00; text-decoration-color: #00af00\">1,542</span> │\n",
       "└──────────────────────────────────────┴─────────────────────────────┴─────────────────┘\n",
       "</pre>\n"
      ],
      "text/plain": [
       "┏━━━━━━━━━━━━━━━━━━━━━━━━━━━━━━━━━━━━━━┳━━━━━━━━━━━━━━━━━━━━━━━━━━━━━┳━━━━━━━━━━━━━━━━━┓\n",
       "┃\u001b[1m \u001b[0m\u001b[1mLayer (type)                        \u001b[0m\u001b[1m \u001b[0m┃\u001b[1m \u001b[0m\u001b[1mOutput Shape               \u001b[0m\u001b[1m \u001b[0m┃\u001b[1m \u001b[0m\u001b[1m        Param #\u001b[0m\u001b[1m \u001b[0m┃\n",
       "┡━━━━━━━━━━━━━━━━━━━━━━━━━━━━━━━━━━━━━━╇━━━━━━━━━━━━━━━━━━━━━━━━━━━━━╇━━━━━━━━━━━━━━━━━┩\n",
       "│ conv2d (\u001b[38;5;33mConv2D\u001b[0m)                      │ (\u001b[38;5;45mNone\u001b[0m, \u001b[38;5;34m128\u001b[0m, \u001b[38;5;34m128\u001b[0m, \u001b[38;5;34m32\u001b[0m)        │             \u001b[38;5;34m896\u001b[0m │\n",
       "├──────────────────────────────────────┼─────────────────────────────┼─────────────────┤\n",
       "│ conv2d_1 (\u001b[38;5;33mConv2D\u001b[0m)                    │ (\u001b[38;5;45mNone\u001b[0m, \u001b[38;5;34m126\u001b[0m, \u001b[38;5;34m126\u001b[0m, \u001b[38;5;34m32\u001b[0m)        │           \u001b[38;5;34m9,248\u001b[0m │\n",
       "├──────────────────────────────────────┼─────────────────────────────┼─────────────────┤\n",
       "│ max_pooling2d (\u001b[38;5;33mMaxPooling2D\u001b[0m)         │ (\u001b[38;5;45mNone\u001b[0m, \u001b[38;5;34m63\u001b[0m, \u001b[38;5;34m63\u001b[0m, \u001b[38;5;34m32\u001b[0m)          │               \u001b[38;5;34m0\u001b[0m │\n",
       "├──────────────────────────────────────┼─────────────────────────────┼─────────────────┤\n",
       "│ conv2d_2 (\u001b[38;5;33mConv2D\u001b[0m)                    │ (\u001b[38;5;45mNone\u001b[0m, \u001b[38;5;34m63\u001b[0m, \u001b[38;5;34m63\u001b[0m, \u001b[38;5;34m64\u001b[0m)          │          \u001b[38;5;34m18,496\u001b[0m │\n",
       "├──────────────────────────────────────┼─────────────────────────────┼─────────────────┤\n",
       "│ conv2d_3 (\u001b[38;5;33mConv2D\u001b[0m)                    │ (\u001b[38;5;45mNone\u001b[0m, \u001b[38;5;34m61\u001b[0m, \u001b[38;5;34m61\u001b[0m, \u001b[38;5;34m64\u001b[0m)          │          \u001b[38;5;34m36,928\u001b[0m │\n",
       "├──────────────────────────────────────┼─────────────────────────────┼─────────────────┤\n",
       "│ max_pooling2d_1 (\u001b[38;5;33mMaxPooling2D\u001b[0m)       │ (\u001b[38;5;45mNone\u001b[0m, \u001b[38;5;34m30\u001b[0m, \u001b[38;5;34m30\u001b[0m, \u001b[38;5;34m64\u001b[0m)          │               \u001b[38;5;34m0\u001b[0m │\n",
       "├──────────────────────────────────────┼─────────────────────────────┼─────────────────┤\n",
       "│ conv2d_4 (\u001b[38;5;33mConv2D\u001b[0m)                    │ (\u001b[38;5;45mNone\u001b[0m, \u001b[38;5;34m30\u001b[0m, \u001b[38;5;34m30\u001b[0m, \u001b[38;5;34m128\u001b[0m)         │          \u001b[38;5;34m73,856\u001b[0m │\n",
       "├──────────────────────────────────────┼─────────────────────────────┼─────────────────┤\n",
       "│ conv2d_5 (\u001b[38;5;33mConv2D\u001b[0m)                    │ (\u001b[38;5;45mNone\u001b[0m, \u001b[38;5;34m28\u001b[0m, \u001b[38;5;34m28\u001b[0m, \u001b[38;5;34m128\u001b[0m)         │         \u001b[38;5;34m147,584\u001b[0m │\n",
       "├──────────────────────────────────────┼─────────────────────────────┼─────────────────┤\n",
       "│ max_pooling2d_2 (\u001b[38;5;33mMaxPooling2D\u001b[0m)       │ (\u001b[38;5;45mNone\u001b[0m, \u001b[38;5;34m14\u001b[0m, \u001b[38;5;34m14\u001b[0m, \u001b[38;5;34m128\u001b[0m)         │               \u001b[38;5;34m0\u001b[0m │\n",
       "├──────────────────────────────────────┼─────────────────────────────┼─────────────────┤\n",
       "│ conv2d_6 (\u001b[38;5;33mConv2D\u001b[0m)                    │ (\u001b[38;5;45mNone\u001b[0m, \u001b[38;5;34m14\u001b[0m, \u001b[38;5;34m14\u001b[0m, \u001b[38;5;34m256\u001b[0m)         │         \u001b[38;5;34m295,168\u001b[0m │\n",
       "├──────────────────────────────────────┼─────────────────────────────┼─────────────────┤\n",
       "│ conv2d_7 (\u001b[38;5;33mConv2D\u001b[0m)                    │ (\u001b[38;5;45mNone\u001b[0m, \u001b[38;5;34m12\u001b[0m, \u001b[38;5;34m12\u001b[0m, \u001b[38;5;34m256\u001b[0m)         │         \u001b[38;5;34m590,080\u001b[0m │\n",
       "├──────────────────────────────────────┼─────────────────────────────┼─────────────────┤\n",
       "│ max_pooling2d_3 (\u001b[38;5;33mMaxPooling2D\u001b[0m)       │ (\u001b[38;5;45mNone\u001b[0m, \u001b[38;5;34m6\u001b[0m, \u001b[38;5;34m6\u001b[0m, \u001b[38;5;34m256\u001b[0m)           │               \u001b[38;5;34m0\u001b[0m │\n",
       "├──────────────────────────────────────┼─────────────────────────────┼─────────────────┤\n",
       "│ flatten (\u001b[38;5;33mFlatten\u001b[0m)                    │ (\u001b[38;5;45mNone\u001b[0m, \u001b[38;5;34m9216\u001b[0m)                │               \u001b[38;5;34m0\u001b[0m │\n",
       "├──────────────────────────────────────┼─────────────────────────────┼─────────────────┤\n",
       "│ dropout (\u001b[38;5;33mDropout\u001b[0m)                    │ (\u001b[38;5;45mNone\u001b[0m, \u001b[38;5;34m9216\u001b[0m)                │               \u001b[38;5;34m0\u001b[0m │\n",
       "├──────────────────────────────────────┼─────────────────────────────┼─────────────────┤\n",
       "│ dense (\u001b[38;5;33mDense\u001b[0m)                        │ (\u001b[38;5;45mNone\u001b[0m, \u001b[38;5;34m256\u001b[0m)                 │       \u001b[38;5;34m2,359,552\u001b[0m │\n",
       "├──────────────────────────────────────┼─────────────────────────────┼─────────────────┤\n",
       "│ dense_1 (\u001b[38;5;33mDense\u001b[0m)                      │ (\u001b[38;5;45mNone\u001b[0m, \u001b[38;5;34m6\u001b[0m)                   │           \u001b[38;5;34m1,542\u001b[0m │\n",
       "└──────────────────────────────────────┴─────────────────────────────┴─────────────────┘\n"
      ]
     },
     "metadata": {},
     "output_type": "display_data"
    },
    {
     "data": {
      "text/html": [
       "<pre style=\"white-space:pre;overflow-x:auto;line-height:normal;font-family:Menlo,'DejaVu Sans Mono',consolas,'Courier New',monospace\"><span style=\"font-weight: bold\"> Total params: </span><span style=\"color: #00af00; text-decoration-color: #00af00\">3,533,350</span> (13.48 MB)\n",
       "</pre>\n"
      ],
      "text/plain": [
       "\u001b[1m Total params: \u001b[0m\u001b[38;5;34m3,533,350\u001b[0m (13.48 MB)\n"
      ]
     },
     "metadata": {},
     "output_type": "display_data"
    },
    {
     "data": {
      "text/html": [
       "<pre style=\"white-space:pre;overflow-x:auto;line-height:normal;font-family:Menlo,'DejaVu Sans Mono',consolas,'Courier New',monospace\"><span style=\"font-weight: bold\"> Trainable params: </span><span style=\"color: #00af00; text-decoration-color: #00af00\">3,533,350</span> (13.48 MB)\n",
       "</pre>\n"
      ],
      "text/plain": [
       "\u001b[1m Trainable params: \u001b[0m\u001b[38;5;34m3,533,350\u001b[0m (13.48 MB)\n"
      ]
     },
     "metadata": {},
     "output_type": "display_data"
    },
    {
     "data": {
      "text/html": [
       "<pre style=\"white-space:pre;overflow-x:auto;line-height:normal;font-family:Menlo,'DejaVu Sans Mono',consolas,'Courier New',monospace\"><span style=\"font-weight: bold\"> Non-trainable params: </span><span style=\"color: #00af00; text-decoration-color: #00af00\">0</span> (0.00 B)\n",
       "</pre>\n"
      ],
      "text/plain": [
       "\u001b[1m Non-trainable params: \u001b[0m\u001b[38;5;34m0\u001b[0m (0.00 B)\n"
      ]
     },
     "metadata": {},
     "output_type": "display_data"
    }
   ],
   "source": [
    "model.summary()"
   ]
  },
  {
   "cell_type": "markdown",
   "id": "f8aa2253-b5d6-47fa-818f-54d94b262120",
   "metadata": {},
   "source": [
    "# Training Model"
   ]
  },
  {
   "cell_type": "code",
   "execution_count": 21,
   "id": "70dc7d1b-6fd5-44d5-a879-8faac6d2bedf",
   "metadata": {},
   "outputs": [
    {
     "name": "stdout",
     "output_type": "stream",
     "text": [
      "Epoch 1/50\n",
      "\u001b[1m66/66\u001b[0m \u001b[32m━━━━━━━━━━━━━━━━━━━━\u001b[0m\u001b[37m\u001b[0m \u001b[1m44s\u001b[0m 581ms/step - accuracy: 0.2228 - loss: 8.4058 - val_accuracy: 0.4867 - val_loss: 6.1325\n",
      "Epoch 2/50\n",
      "\u001b[1m66/66\u001b[0m \u001b[32m━━━━━━━━━━━━━━━━━━━━\u001b[0m\u001b[37m\u001b[0m \u001b[1m35s\u001b[0m 515ms/step - accuracy: 0.4032 - loss: 6.3358 - val_accuracy: 0.6117 - val_loss: 5.7781\n",
      "Epoch 3/50\n",
      "\u001b[1m66/66\u001b[0m \u001b[32m━━━━━━━━━━━━━━━━━━━━\u001b[0m\u001b[37m\u001b[0m \u001b[1m35s\u001b[0m 517ms/step - accuracy: 0.5648 - loss: 5.8610 - val_accuracy: 0.6212 - val_loss: 5.5894\n",
      "Epoch 4/50\n",
      "\u001b[1m66/66\u001b[0m \u001b[32m━━━━━━━━━━━━━━━━━━━━\u001b[0m\u001b[37m\u001b[0m \u001b[1m35s\u001b[0m 520ms/step - accuracy: 0.6416 - loss: 5.5845 - val_accuracy: 0.6402 - val_loss: 5.4589\n",
      "Epoch 5/50\n",
      "\u001b[1m66/66\u001b[0m \u001b[32m━━━━━━━━━━━━━━━━━━━━\u001b[0m\u001b[37m\u001b[0m \u001b[1m35s\u001b[0m 518ms/step - accuracy: 0.6877 - loss: 5.3988 - val_accuracy: 0.6970 - val_loss: 5.2588\n",
      "Epoch 6/50\n",
      "\u001b[1m66/66\u001b[0m \u001b[32m━━━━━━━━━━━━━━━━━━━━\u001b[0m\u001b[37m\u001b[0m \u001b[1m35s\u001b[0m 531ms/step - accuracy: 0.7226 - loss: 5.1848 - val_accuracy: 0.7064 - val_loss: 5.1458\n",
      "Epoch 7/50\n",
      "\u001b[1m66/66\u001b[0m \u001b[32m━━━━━━━━━━━━━━━━━━━━\u001b[0m\u001b[37m\u001b[0m \u001b[1m37s\u001b[0m 555ms/step - accuracy: 0.7305 - loss: 5.0697 - val_accuracy: 0.7500 - val_loss: 5.0150\n",
      "Epoch 8/50\n",
      "\u001b[1m66/66\u001b[0m \u001b[32m━━━━━━━━━━━━━━━━━━━━\u001b[0m\u001b[37m\u001b[0m \u001b[1m36s\u001b[0m 539ms/step - accuracy: 0.7683 - loss: 4.9397 - val_accuracy: 0.7500 - val_loss: 4.9316\n",
      "Epoch 9/50\n",
      "\u001b[1m66/66\u001b[0m \u001b[32m━━━━━━━━━━━━━━━━━━━━\u001b[0m\u001b[37m\u001b[0m \u001b[1m35s\u001b[0m 517ms/step - accuracy: 0.7898 - loss: 4.8001 - val_accuracy: 0.7652 - val_loss: 4.8066\n",
      "Epoch 10/50\n",
      "\u001b[1m66/66\u001b[0m \u001b[32m━━━━━━━━━━━━━━━━━━━━\u001b[0m\u001b[37m\u001b[0m \u001b[1m34s\u001b[0m 515ms/step - accuracy: 0.7752 - loss: 4.7311 - val_accuracy: 0.7879 - val_loss: 4.7001\n",
      "Epoch 11/50\n",
      "\u001b[1m66/66\u001b[0m \u001b[32m━━━━━━━━━━━━━━━━━━━━\u001b[0m\u001b[37m\u001b[0m \u001b[1m34s\u001b[0m 515ms/step - accuracy: 0.7910 - loss: 4.6414 - val_accuracy: 0.7633 - val_loss: 4.6600\n",
      "Epoch 12/50\n",
      "\u001b[1m66/66\u001b[0m \u001b[32m━━━━━━━━━━━━━━━━━━━━\u001b[0m\u001b[37m\u001b[0m \u001b[1m34s\u001b[0m 513ms/step - accuracy: 0.8252 - loss: 4.5234 - val_accuracy: 0.8011 - val_loss: 4.5677\n",
      "Epoch 13/50\n",
      "\u001b[1m66/66\u001b[0m \u001b[32m━━━━━━━━━━━━━━━━━━━━\u001b[0m\u001b[37m\u001b[0m \u001b[1m34s\u001b[0m 514ms/step - accuracy: 0.8323 - loss: 4.4476 - val_accuracy: 0.8011 - val_loss: 4.5213\n",
      "Epoch 14/50\n",
      "\u001b[1m66/66\u001b[0m \u001b[32m━━━━━━━━━━━━━━━━━━━━\u001b[0m\u001b[37m\u001b[0m \u001b[1m41s\u001b[0m 613ms/step - accuracy: 0.8332 - loss: 4.3909 - val_accuracy: 0.8087 - val_loss: 4.4155\n",
      "Epoch 15/50\n",
      "\u001b[1m66/66\u001b[0m \u001b[32m━━━━━━━━━━━━━━━━━━━━\u001b[0m\u001b[37m\u001b[0m \u001b[1m34s\u001b[0m 515ms/step - accuracy: 0.8550 - loss: 4.2811 - val_accuracy: 0.8277 - val_loss: 4.3508\n",
      "Epoch 16/50\n",
      "\u001b[1m66/66\u001b[0m \u001b[32m━━━━━━━━━━━━━━━━━━━━\u001b[0m\u001b[37m\u001b[0m \u001b[1m39s\u001b[0m 592ms/step - accuracy: 0.8540 - loss: 4.2467 - val_accuracy: 0.8220 - val_loss: 4.2961\n",
      "Epoch 17/50\n",
      "\u001b[1m66/66\u001b[0m \u001b[32m━━━━━━━━━━━━━━━━━━━━\u001b[0m\u001b[37m\u001b[0m \u001b[1m36s\u001b[0m 508ms/step - accuracy: 0.8690 - loss: 4.1583 - val_accuracy: 0.8220 - val_loss: 4.2534\n",
      "Epoch 18/50\n",
      "\u001b[1m66/66\u001b[0m \u001b[32m━━━━━━━━━━━━━━━━━━━━\u001b[0m\u001b[37m\u001b[0m \u001b[1m35s\u001b[0m 517ms/step - accuracy: 0.8732 - loss: 4.1107 - val_accuracy: 0.8333 - val_loss: 4.1983\n",
      "Epoch 19/50\n",
      "\u001b[1m66/66\u001b[0m \u001b[32m━━━━━━━━━━━━━━━━━━━━\u001b[0m\u001b[37m\u001b[0m \u001b[1m41s\u001b[0m 621ms/step - accuracy: 0.8901 - loss: 4.0416 - val_accuracy: 0.8182 - val_loss: 4.1603\n",
      "Epoch 20/50\n",
      "\u001b[1m66/66\u001b[0m \u001b[32m━━━━━━━━━━━━━━━━━━━━\u001b[0m\u001b[37m\u001b[0m \u001b[1m35s\u001b[0m 518ms/step - accuracy: 0.8974 - loss: 3.9668 - val_accuracy: 0.8371 - val_loss: 4.1122\n",
      "Epoch 21/50\n",
      "\u001b[1m66/66\u001b[0m \u001b[32m━━━━━━━━━━━━━━━━━━━━\u001b[0m\u001b[37m\u001b[0m \u001b[1m45s\u001b[0m 681ms/step - accuracy: 0.8810 - loss: 3.9580 - val_accuracy: 0.8163 - val_loss: 4.0688\n",
      "Epoch 22/50\n",
      "\u001b[1m66/66\u001b[0m \u001b[32m━━━━━━━━━━━━━━━━━━━━\u001b[0m\u001b[37m\u001b[0m \u001b[1m41s\u001b[0m 615ms/step - accuracy: 0.8970 - loss: 3.8911 - val_accuracy: 0.8314 - val_loss: 4.0371\n",
      "Epoch 23/50\n",
      "\u001b[1m66/66\u001b[0m \u001b[32m━━━━━━━━━━━━━━━━━━━━\u001b[0m\u001b[37m\u001b[0m \u001b[1m42s\u001b[0m 630ms/step - accuracy: 0.9197 - loss: 3.8211 - val_accuracy: 0.8504 - val_loss: 3.9645\n",
      "Epoch 24/50\n",
      "\u001b[1m66/66\u001b[0m \u001b[32m━━━━━━━━━━━━━━━━━━━━\u001b[0m\u001b[37m\u001b[0m \u001b[1m40s\u001b[0m 598ms/step - accuracy: 0.9263 - loss: 3.7740 - val_accuracy: 0.8333 - val_loss: 3.9314\n",
      "Epoch 25/50\n",
      "\u001b[1m66/66\u001b[0m \u001b[32m━━━━━━━━━━━━━━━━━━━━\u001b[0m\u001b[37m\u001b[0m \u001b[1m40s\u001b[0m 598ms/step - accuracy: 0.9219 - loss: 3.7263 - val_accuracy: 0.8580 - val_loss: 3.8776\n",
      "Epoch 26/50\n",
      "\u001b[1m66/66\u001b[0m \u001b[32m━━━━━━━━━━━━━━━━━━━━\u001b[0m\u001b[37m\u001b[0m \u001b[1m41s\u001b[0m 619ms/step - accuracy: 0.9159 - loss: 3.7075 - val_accuracy: 0.8485 - val_loss: 3.8589\n",
      "Epoch 27/50\n",
      "\u001b[1m66/66\u001b[0m \u001b[32m━━━━━━━━━━━━━━━━━━━━\u001b[0m\u001b[37m\u001b[0m \u001b[1m40s\u001b[0m 596ms/step - accuracy: 0.9334 - loss: 3.6511 - val_accuracy: 0.8617 - val_loss: 3.7973\n",
      "Epoch 28/50\n",
      "\u001b[1m66/66\u001b[0m \u001b[32m━━━━━━━━━━━━━━━━━━━━\u001b[0m\u001b[37m\u001b[0m \u001b[1m42s\u001b[0m 626ms/step - accuracy: 0.9416 - loss: 3.6056 - val_accuracy: 0.8580 - val_loss: 3.7794\n",
      "Epoch 29/50\n",
      "\u001b[1m66/66\u001b[0m \u001b[32m━━━━━━━━━━━━━━━━━━━━\u001b[0m\u001b[37m\u001b[0m \u001b[1m43s\u001b[0m 646ms/step - accuracy: 0.9369 - loss: 3.5585 - val_accuracy: 0.8598 - val_loss: 3.7564\n",
      "Epoch 30/50\n",
      "\u001b[1m66/66\u001b[0m \u001b[32m━━━━━━━━━━━━━━━━━━━━\u001b[0m\u001b[37m\u001b[0m \u001b[1m42s\u001b[0m 624ms/step - accuracy: 0.9453 - loss: 3.5346 - val_accuracy: 0.8542 - val_loss: 3.7139\n",
      "Epoch 31/50\n",
      "\u001b[1m66/66\u001b[0m \u001b[32m━━━━━━━━━━━━━━━━━━━━\u001b[0m\u001b[37m\u001b[0m \u001b[1m40s\u001b[0m 597ms/step - accuracy: 0.9519 - loss: 3.4898 - val_accuracy: 0.8731 - val_loss: 3.6918\n",
      "Epoch 32/50\n",
      "\u001b[1m66/66\u001b[0m \u001b[32m━━━━━━━━━━━━━━━━━━━━\u001b[0m\u001b[37m\u001b[0m \u001b[1m44s\u001b[0m 653ms/step - accuracy: 0.9486 - loss: 3.4490 - val_accuracy: 0.8655 - val_loss: 3.6508\n",
      "Epoch 33/50\n",
      "\u001b[1m66/66\u001b[0m \u001b[32m━━━━━━━━━━━━━━━━━━━━\u001b[0m\u001b[37m\u001b[0m \u001b[1m42s\u001b[0m 634ms/step - accuracy: 0.9505 - loss: 3.4215 - val_accuracy: 0.8769 - val_loss: 3.6103\n",
      "Epoch 34/50\n",
      "\u001b[1m66/66\u001b[0m \u001b[32m━━━━━━━━━━━━━━━━━━━━\u001b[0m\u001b[37m\u001b[0m \u001b[1m44s\u001b[0m 663ms/step - accuracy: 0.9641 - loss: 3.3846 - val_accuracy: 0.8636 - val_loss: 3.6147\n",
      "Epoch 35/50\n",
      "\u001b[1m66/66\u001b[0m \u001b[32m━━━━━━━━━━━━━━━━━━━━\u001b[0m\u001b[37m\u001b[0m \u001b[1m42s\u001b[0m 627ms/step - accuracy: 0.9685 - loss: 3.3417 - val_accuracy: 0.8598 - val_loss: 3.5811\n",
      "Epoch 36/50\n",
      "\u001b[1m66/66\u001b[0m \u001b[32m━━━━━━━━━━━━━━━━━━━━\u001b[0m\u001b[37m\u001b[0m \u001b[1m40s\u001b[0m 601ms/step - accuracy: 0.9709 - loss: 3.3065 - val_accuracy: 0.8655 - val_loss: 3.5234\n",
      "Epoch 37/50\n",
      "\u001b[1m66/66\u001b[0m \u001b[32m━━━━━━━━━━━━━━━━━━━━\u001b[0m\u001b[37m\u001b[0m \u001b[1m41s\u001b[0m 606ms/step - accuracy: 0.9712 - loss: 3.2852 - val_accuracy: 0.8409 - val_loss: 3.5446\n",
      "Epoch 38/50\n",
      "\u001b[1m66/66\u001b[0m \u001b[32m━━━━━━━━━━━━━━━━━━━━\u001b[0m\u001b[37m\u001b[0m \u001b[1m41s\u001b[0m 613ms/step - accuracy: 0.9624 - loss: 3.2687 - val_accuracy: 0.8636 - val_loss: 3.4912\n",
      "Epoch 39/50\n",
      "\u001b[1m66/66\u001b[0m \u001b[32m━━━━━━━━━━━━━━━━━━━━\u001b[0m\u001b[37m\u001b[0m \u001b[1m40s\u001b[0m 596ms/step - accuracy: 0.9762 - loss: 3.2178 - val_accuracy: 0.8788 - val_loss: 3.4573\n",
      "Epoch 40/50\n",
      "\u001b[1m66/66\u001b[0m \u001b[32m━━━━━━━━━━━━━━━━━━━━\u001b[0m\u001b[37m\u001b[0m \u001b[1m40s\u001b[0m 596ms/step - accuracy: 0.9796 - loss: 3.1842 - val_accuracy: 0.8845 - val_loss: 3.4308\n",
      "Epoch 41/50\n",
      "\u001b[1m66/66\u001b[0m \u001b[32m━━━━━━━━━━━━━━━━━━━━\u001b[0m\u001b[37m\u001b[0m \u001b[1m40s\u001b[0m 595ms/step - accuracy: 0.9791 - loss: 3.1565 - val_accuracy: 0.8636 - val_loss: 3.4199\n",
      "Epoch 42/50\n",
      "\u001b[1m66/66\u001b[0m \u001b[32m━━━━━━━━━━━━━━━━━━━━\u001b[0m\u001b[37m\u001b[0m \u001b[1m40s\u001b[0m 594ms/step - accuracy: 0.9790 - loss: 3.1219 - val_accuracy: 0.8655 - val_loss: 3.3922\n",
      "Epoch 43/50\n",
      "\u001b[1m66/66\u001b[0m \u001b[32m━━━━━━━━━━━━━━━━━━━━\u001b[0m\u001b[37m\u001b[0m \u001b[1m39s\u001b[0m 590ms/step - accuracy: 0.9871 - loss: 3.0924 - val_accuracy: 0.8693 - val_loss: 3.3606\n",
      "Epoch 44/50\n",
      "\u001b[1m66/66\u001b[0m \u001b[32m━━━━━━━━━━━━━━━━━━━━\u001b[0m\u001b[37m\u001b[0m \u001b[1m40s\u001b[0m 596ms/step - accuracy: 0.9802 - loss: 3.0708 - val_accuracy: 0.8561 - val_loss: 3.3424\n",
      "Epoch 45/50\n",
      "\u001b[1m66/66\u001b[0m \u001b[32m━━━━━━━━━━━━━━━━━━━━\u001b[0m\u001b[37m\u001b[0m \u001b[1m41s\u001b[0m 606ms/step - accuracy: 0.9881 - loss: 3.0402 - val_accuracy: 0.8807 - val_loss: 3.2901\n",
      "Epoch 46/50\n",
      "\u001b[1m66/66\u001b[0m \u001b[32m━━━━━━━━━━━━━━━━━━━━\u001b[0m\u001b[37m\u001b[0m \u001b[1m40s\u001b[0m 596ms/step - accuracy: 0.9825 - loss: 3.0180 - val_accuracy: 0.8712 - val_loss: 3.2766\n",
      "Epoch 47/50\n",
      "\u001b[1m66/66\u001b[0m \u001b[32m━━━━━━━━━━━━━━━━━━━━\u001b[0m\u001b[37m\u001b[0m \u001b[1m40s\u001b[0m 595ms/step - accuracy: 0.9890 - loss: 2.9870 - val_accuracy: 0.8428 - val_loss: 3.2997\n",
      "Epoch 48/50\n",
      "\u001b[1m66/66\u001b[0m \u001b[32m━━━━━━━━━━━━━━━━━━━━\u001b[0m\u001b[37m\u001b[0m \u001b[1m40s\u001b[0m 596ms/step - accuracy: 0.9903 - loss: 2.9558 - val_accuracy: 0.8485 - val_loss: 3.2734\n",
      "Epoch 49/50\n",
      "\u001b[1m66/66\u001b[0m \u001b[32m━━━━━━━━━━━━━━━━━━━━\u001b[0m\u001b[37m\u001b[0m \u001b[1m40s\u001b[0m 599ms/step - accuracy: 0.9892 - loss: 2.9326 - val_accuracy: 0.8731 - val_loss: 3.2191\n",
      "Epoch 50/50\n",
      "\u001b[1m66/66\u001b[0m \u001b[32m━━━━━━━━━━━━━━━━━━━━\u001b[0m\u001b[37m\u001b[0m \u001b[1m41s\u001b[0m 618ms/step - accuracy: 0.9898 - loss: 2.9007 - val_accuracy: 0.8826 - val_loss: 3.1814\n"
     ]
    }
   ],
   "source": [
    "training_history = model.fit(x=training_set,validation_data=validation_set,epochs=50)"
   ]
  },
  {
   "cell_type": "markdown",
   "id": "c0874ff8-94ac-474f-9c7f-d2c2a06788c1",
   "metadata": {},
   "source": [
    "# Model Evaluation"
   ]
  },
  {
   "cell_type": "markdown",
   "id": "87ca91ca-bbeb-46a6-88e8-f9f75c72606c",
   "metadata": {},
   "source": [
    "#### on training set"
   ]
  },
  {
   "cell_type": "code",
   "execution_count": 22,
   "id": "f5d1b279-493d-4764-ae65-4bc4da43b64e",
   "metadata": {},
   "outputs": [
    {
     "name": "stdout",
     "output_type": "stream",
     "text": [
      "\u001b[1m66/66\u001b[0m \u001b[32m━━━━━━━━━━━━━━━━━━━━\u001b[0m\u001b[37m\u001b[0m \u001b[1m11s\u001b[0m 158ms/step - accuracy: 0.9988 - loss: 2.8666\n"
     ]
    }
   ],
   "source": [
    "train_loss,train_acc = model.evaluate(training_set)"
   ]
  },
  {
   "cell_type": "code",
   "execution_count": 23,
   "id": "fc5f4fc0-cab1-4e45-9629-d472c5264dfb",
   "metadata": {},
   "outputs": [
    {
     "name": "stdout",
     "output_type": "stream",
     "text": [
      "2.860659599304199 0.9995238184928894\n"
     ]
    }
   ],
   "source": [
    "print(train_loss,train_acc)"
   ]
  },
  {
   "cell_type": "markdown",
   "id": "c7878b05-ba32-408c-95ce-d47066bbabc3",
   "metadata": {},
   "source": [
    "#### on validation set"
   ]
  },
  {
   "cell_type": "code",
   "execution_count": 24,
   "id": "597770a0-c6aa-433c-b5d6-c18ad810bb98",
   "metadata": {},
   "outputs": [
    {
     "name": "stdout",
     "output_type": "stream",
     "text": [
      "\u001b[1m17/17\u001b[0m \u001b[32m━━━━━━━━━━━━━━━━━━━━\u001b[0m\u001b[37m\u001b[0m \u001b[1m3s\u001b[0m 140ms/step - accuracy: 0.9008 - loss: 3.1246\n"
     ]
    }
   ],
   "source": [
    "val_loss,val_acc = model.evaluate(validation_set)"
   ]
  },
  {
   "cell_type": "code",
   "execution_count": 25,
   "id": "62779aa4-0c13-4852-8cea-61fd99eee692",
   "metadata": {},
   "outputs": [
    {
     "name": "stdout",
     "output_type": "stream",
     "text": [
      "3.187472105026245 0.8825757503509521\n"
     ]
    }
   ],
   "source": [
    "print(val_loss,val_acc)"
   ]
  },
  {
   "cell_type": "markdown",
   "id": "fd5cafde-3f37-47d3-b37a-2a24df291e45",
   "metadata": {},
   "source": [
    "# Saving Model"
   ]
  },
  {
   "cell_type": "code",
   "execution_count": 26,
   "id": "f6306542-dc6f-4786-a383-7d0c5b17c847",
   "metadata": {},
   "outputs": [
    {
     "name": "stderr",
     "output_type": "stream",
     "text": [
      "WARNING:absl:You are saving your model as an HDF5 file via `model.save()` or `keras.saving.save_model(model)`. This file format is considered legacy. We recommend using instead the native Keras format, e.g. `model.save('my_model.keras')` or `keras.saving.save_model(model, 'my_model.keras')`. \n"
     ]
    }
   ],
   "source": [
    "model.save(\"trained_model.h5\")"
   ]
  },
  {
   "cell_type": "code",
   "execution_count": 27,
   "id": "7bcd7d08-32f8-4897-b2e1-8d9620c83db2",
   "metadata": {},
   "outputs": [],
   "source": [
    "model.save(\"trained_model.keras\")"
   ]
  },
  {
   "cell_type": "code",
   "execution_count": 28,
   "id": "1197bd20-9f6a-4e53-9cf5-b9527bfe97b3",
   "metadata": {},
   "outputs": [
    {
     "data": {
      "text/plain": [
       "{'accuracy': [0.2666666805744171,\n",
       "  0.45523810386657715,\n",
       "  0.584761917591095,\n",
       "  0.653333306312561,\n",
       "  0.6947619318962097,\n",
       "  0.7257142663002014,\n",
       "  0.7338095307350159,\n",
       "  0.772857129573822,\n",
       "  0.7842857241630554,\n",
       "  0.7866666913032532,\n",
       "  0.7980952262878418,\n",
       "  0.8361904621124268,\n",
       "  0.8361904621124268,\n",
       "  0.842380940914154,\n",
       "  0.8585714101791382,\n",
       "  0.8628571629524231,\n",
       "  0.8647618889808655,\n",
       "  0.8885714411735535,\n",
       "  0.8909524083137512,\n",
       "  0.8995237946510315,\n",
       "  0.8938094973564148,\n",
       "  0.9052380919456482,\n",
       "  0.9233333468437195,\n",
       "  0.9319047331809998,\n",
       "  0.9314285516738892,\n",
       "  0.9333333373069763,\n",
       "  0.9371428489685059,\n",
       "  0.9461904764175415,\n",
       "  0.9433333277702332,\n",
       "  0.95333331823349,\n",
       "  0.9552381038665771,\n",
       "  0.9547619223594666,\n",
       "  0.9538094997406006,\n",
       "  0.9666666388511658,\n",
       "  0.9719047546386719,\n",
       "  0.9723809361457825,\n",
       "  0.9704762101173401,\n",
       "  0.9676190614700317,\n",
       "  0.9790475964546204,\n",
       "  0.9804762005805969,\n",
       "  0.9800000190734863,\n",
       "  0.9838095307350159,\n",
       "  0.9838095307350159,\n",
       "  0.9847618937492371,\n",
       "  0.9900000095367432,\n",
       "  0.9866666793823242,\n",
       "  0.9904761910438538,\n",
       "  0.9900000095367432,\n",
       "  0.9923809766769409,\n",
       "  0.988095223903656],\n",
       " 'loss': [7.374087333679199,\n",
       "  6.196082592010498,\n",
       "  5.789149284362793,\n",
       "  5.5143585205078125,\n",
       "  5.34854793548584,\n",
       "  5.16892147064209,\n",
       "  5.041128635406494,\n",
       "  4.9107561111450195,\n",
       "  4.7867960929870605,\n",
       "  4.69875431060791,\n",
       "  4.610456466674805,\n",
       "  4.4937744140625,\n",
       "  4.425527095794678,\n",
       "  4.359210968017578,\n",
       "  4.270905494689941,\n",
       "  4.21289587020874,\n",
       "  4.143896579742432,\n",
       "  4.06995153427124,\n",
       "  4.02643346786499,\n",
       "  3.956352949142456,\n",
       "  3.9258875846862793,\n",
       "  3.8616254329681396,\n",
       "  3.80157470703125,\n",
       "  3.7520551681518555,\n",
       "  3.707862377166748,\n",
       "  3.6768243312835693,\n",
       "  3.631289005279541,\n",
       "  3.5879228115081787,\n",
       "  3.549198865890503,\n",
       "  3.513683795928955,\n",
       "  3.473478078842163,\n",
       "  3.4360451698303223,\n",
       "  3.4111080169677734,\n",
       "  3.3676724433898926,\n",
       "  3.328563690185547,\n",
       "  3.299046516418457,\n",
       "  3.275468349456787,\n",
       "  3.250211000442505,\n",
       "  3.2079720497131348,\n",
       "  3.176243305206299,\n",
       "  3.144151449203491,\n",
       "  3.1147682666778564,\n",
       "  3.091531276702881,\n",
       "  3.0593810081481934,\n",
       "  3.028625965118408,\n",
       "  3.0054705142974854,\n",
       "  2.9723353385925293,\n",
       "  2.947598695755005,\n",
       "  2.918091058731079,\n",
       "  2.8944969177246094],\n",
       " 'val_accuracy': [0.48674243688583374,\n",
       "  0.6117424368858337,\n",
       "  0.6212121248245239,\n",
       "  0.6401515007019043,\n",
       "  0.6969696879386902,\n",
       "  0.7064393758773804,\n",
       "  0.75,\n",
       "  0.75,\n",
       "  0.7651515007019043,\n",
       "  0.7878788113594055,\n",
       "  0.7632575631141663,\n",
       "  0.8011363744735718,\n",
       "  0.8011363744735718,\n",
       "  0.8087121248245239,\n",
       "  0.8276515007019043,\n",
       "  0.8219696879386902,\n",
       "  0.8219696879386902,\n",
       "  0.8333333134651184,\n",
       "  0.8181818127632141,\n",
       "  0.8371211886405945,\n",
       "  0.8162878751754761,\n",
       "  0.8314393758773804,\n",
       "  0.8503788113594055,\n",
       "  0.8333333134651184,\n",
       "  0.8579545617103577,\n",
       "  0.8484848737716675,\n",
       "  0.8617424368858337,\n",
       "  0.8579545617103577,\n",
       "  0.8598484992980957,\n",
       "  0.8541666865348816,\n",
       "  0.873106062412262,\n",
       "  0.8655303120613098,\n",
       "  0.876893937587738,\n",
       "  0.8636363744735718,\n",
       "  0.8598484992980957,\n",
       "  0.8655303120613098,\n",
       "  0.8409090638160706,\n",
       "  0.8636363744735718,\n",
       "  0.8787878751754761,\n",
       "  0.8844696879386902,\n",
       "  0.8636363744735718,\n",
       "  0.8655303120613098,\n",
       "  0.8693181872367859,\n",
       "  0.8560606241226196,\n",
       "  0.8806818127632141,\n",
       "  0.8712121248245239,\n",
       "  0.8428030014038086,\n",
       "  0.8484848737716675,\n",
       "  0.873106062412262,\n",
       "  0.8825757503509521],\n",
       " 'val_loss': [6.132518768310547,\n",
       "  5.7780890464782715,\n",
       "  5.589361667633057,\n",
       "  5.458916664123535,\n",
       "  5.258758544921875,\n",
       "  5.1457905769348145,\n",
       "  5.015041351318359,\n",
       "  4.931587219238281,\n",
       "  4.806581974029541,\n",
       "  4.700062274932861,\n",
       "  4.659961223602295,\n",
       "  4.567723751068115,\n",
       "  4.52133846282959,\n",
       "  4.415464401245117,\n",
       "  4.350801944732666,\n",
       "  4.296092987060547,\n",
       "  4.253399848937988,\n",
       "  4.198337554931641,\n",
       "  4.160337448120117,\n",
       "  4.112212181091309,\n",
       "  4.0687761306762695,\n",
       "  4.037052631378174,\n",
       "  3.9645183086395264,\n",
       "  3.931440830230713,\n",
       "  3.8775877952575684,\n",
       "  3.858922243118286,\n",
       "  3.7972848415374756,\n",
       "  3.779365062713623,\n",
       "  3.7563912868499756,\n",
       "  3.713942766189575,\n",
       "  3.691843032836914,\n",
       "  3.650829792022705,\n",
       "  3.6103038787841797,\n",
       "  3.6147289276123047,\n",
       "  3.5811026096343994,\n",
       "  3.5233874320983887,\n",
       "  3.5446221828460693,\n",
       "  3.491238832473755,\n",
       "  3.457348585128784,\n",
       "  3.430765151977539,\n",
       "  3.419926643371582,\n",
       "  3.392164707183838,\n",
       "  3.360595226287842,\n",
       "  3.3424019813537598,\n",
       "  3.29006290435791,\n",
       "  3.2766470909118652,\n",
       "  3.2997496128082275,\n",
       "  3.2733545303344727,\n",
       "  3.2191145420074463,\n",
       "  3.1813974380493164]}"
      ]
     },
     "execution_count": 28,
     "metadata": {},
     "output_type": "execute_result"
    }
   ],
   "source": [
    "training_history.history"
   ]
  },
  {
   "cell_type": "markdown",
   "id": "fa8a4f2e-4e9c-45a0-9601-62f0f92906b1",
   "metadata": {},
   "source": [
    "##### recording history"
   ]
  },
  {
   "cell_type": "code",
   "execution_count": 29,
   "id": "fae9fbd0-6148-4469-8f81-d764803cc43b",
   "metadata": {},
   "outputs": [],
   "source": [
    "import json\n",
    "with open(\"training_hist.json\",\"w\") as f:\n",
    "    json.dump(training_history.history,f)"
   ]
  },
  {
   "cell_type": "markdown",
   "id": "847657f4-d631-4771-951e-7ea1d66128c1",
   "metadata": {},
   "source": [
    "## Accuracy Visualization"
   ]
  },
  {
   "cell_type": "code",
   "execution_count": 30,
   "id": "b0d5082c-1c0e-4910-ac57-f7f8efdd8155",
   "metadata": {},
   "outputs": [
    {
     "data": {
      "image/png": "[encoded data removed]",
      "text/plain": [
       "<Figure size 640x480 with 1 Axes>"
      ]
     },
     "metadata": {},
     "output_type": "display_data"
    }
   ],
   "source": [
    "epochs = [i for i in range(1,51)]\n",
    "plt.plot(epochs,training_history.history['accuracy'],color = 'red', label = 'Training Accuracy')\n",
    "plt.plot(epochs,training_history.history['val_accuracy'],color = 'blue', label = 'Validation Accuracy')\n",
    "plt.xlabel('number of epochs')\n",
    "plt.ylabel('Accuracy result')\n",
    "plt.title('Visualization of Accuracy Result')\n",
    "plt.legend()\n",
    "plt.show()"
   ]
  },
  {
   "cell_type": "markdown",
   "id": "7cb6d921-6ca0-4653-a322-0d73ead12999",
   "metadata": {},
   "source": [
    "# Other Metrics of Accuracy"
   ]
  },
  {
   "cell_type": "code",
   "execution_count": 31,
   "id": "73b94d2a-848d-4ece-abe6-08b0ae5e07ce",
   "metadata": {},
   "outputs": [
    {
     "data": {
      "text/plain": [
       "['narrow_brown_spot',\n",
       " 'bacterial_leaf_blight',\n",
       " 'brown_spot',\n",
       " 'healthy',\n",
       " 'leaf_blast',\n",
       " 'leaf_scald']"
      ]
     },
     "execution_count": 31,
     "metadata": {},
     "output_type": "execute_result"
    }
   ],
   "source": [
    "class_names = ['narrow_brown_spot','bacterial_leaf_blight','brown_spot','healthy','leaf_blast','leaf_scald']\n",
    "class_names"
   ]
  },
  {
   "cell_type": "code",
   "execution_count": 32,
   "id": "6beb00c4-3f5a-4592-8a54-1834e6180abd",
   "metadata": {},
   "outputs": [
    {
     "name": "stdout",
     "output_type": "stream",
     "text": [
      "Found 528 files belonging to 6 classes.\n"
     ]
    }
   ],
   "source": [
    "test_set = validation_set = tf.keras.utils.image_dataset_from_directory(\n",
    "    r\"C:\\Users\\srsin\\Downloads\\Compressed\\archive_2\\RiceLeafsDisease\\validation\",\n",
    "    labels=\"inferred\",\n",
    "    label_mode=\"int\",\n",
    "    class_names=None,\n",
    "    color_mode=\"rgb\",\n",
    "    batch_size=32,\n",
    "    image_size=(128, 128),\n",
    "    shuffle=False,\n",
    "    seed=None,\n",
    "    validation_split=None,\n",
    "    subset=None,\n",
    "    interpolation=\"bilinear\",\n",
    "    follow_links=False,\n",
    "    crop_to_aspect_ratio=False,\n",
    "    pad_to_aspect_ratio=False,\n",
    "    verbose=True,\n",
    ")\n",
    "\n",
    "validation_set = validation_set.map(one_hot_encode)"
   ]
  },
  {
   "cell_type": "code",
   "execution_count": 33,
   "id": "611239f4-8cce-4ccb-9ff1-0dcca8ba8151",
   "metadata": {},
   "outputs": [
    {
     "name": "stdout",
     "output_type": "stream",
     "text": [
      "\u001b[1m17/17\u001b[0m \u001b[32m━━━━━━━━━━━━━━━━━━━━\u001b[0m\u001b[37m\u001b[0m \u001b[1m3s\u001b[0m 163ms/step\n"
     ]
    },
    {
     "data": {
      "text/plain": [
       "(array([[9.99944568e-01, 5.85700263e-06, 4.54806127e-07, 4.90446619e-05,\n",
       "         8.72402761e-10, 5.15793586e-09],\n",
       "        [6.41217232e-01, 3.53024960e-01, 2.98224245e-06, 5.38872508e-03,\n",
       "         3.51115682e-06, 3.62553139e-04],\n",
       "        [9.99971509e-01, 1.36601102e-05, 1.02742890e-08, 1.47332703e-05,\n",
       "         3.96940841e-10, 1.55339762e-07],\n",
       "        ...,\n",
       "        [2.45695588e-07, 1.09827615e-05, 3.43906066e-07, 4.95516497e-06,\n",
       "         1.50375524e-06, 9.99981880e-01],\n",
       "        [1.79341048e-04, 1.29466003e-03, 4.73231217e-03, 1.42137974e-03,\n",
       "         3.51890619e-03, 9.88853335e-01],\n",
       "        [1.17346253e-02, 7.45445536e-03, 1.31821180e-05, 7.13058412e-02,\n",
       "         5.50590403e-06, 9.09486413e-01]], dtype=float32),\n",
       " (528, 6))"
      ]
     },
     "execution_count": 33,
     "metadata": {},
     "output_type": "execute_result"
    }
   ],
   "source": [
    "y_pred = model.predict(test_set)\n",
    "y_pred, y_pred.shape"
   ]
  },
  {
   "cell_type": "code",
   "execution_count": 34,
   "id": "738505f8-ef70-4ff2-8671-68e8e01ef8a0",
   "metadata": {},
   "outputs": [
    {
     "data": {
      "text/plain": [
       "<tf.Tensor: shape=(528,), dtype=int64, numpy=\n",
       "array([0, 0, 0, 0, 0, 0, 0, 0, 0, 0, 0, 0, 0, 0, 0, 0, 0, 0, 0, 0, 0, 0,\n",
       "       0, 0, 0, 5, 0, 0, 0, 0, 0, 0, 0, 0, 0, 0, 3, 0, 0, 0, 0, 0, 5, 5,\n",
       "       0, 0, 0, 0, 0, 0, 0, 0, 0, 0, 0, 0, 0, 0, 0, 0, 0, 0, 0, 0, 0, 0,\n",
       "       0, 0, 0, 0, 0, 0, 0, 0, 0, 0, 0, 0, 0, 0, 0, 0, 0, 0, 0, 0, 0, 0,\n",
       "       0, 3, 3, 1, 1, 1, 1, 1, 1, 1, 1, 1, 1, 1, 1, 1, 1, 1, 1, 1, 1, 1,\n",
       "       5, 1, 1, 1, 1, 1, 1, 1, 1, 1, 1, 1, 1, 1, 1, 1, 1, 1, 1, 1, 1, 1,\n",
       "       1, 1, 5, 1, 5, 1, 1, 1, 1, 1, 1, 1, 1, 1, 1, 1, 1, 3, 1, 1, 1, 3,\n",
       "       1, 1, 1, 2, 1, 3, 3, 1, 1, 1, 3, 3, 1, 1, 1, 1, 1, 3, 1, 1, 1, 1,\n",
       "       3, 2, 3, 2, 2, 2, 2, 2, 2, 2, 2, 2, 2, 2, 2, 2, 2, 2, 2, 2, 2, 2,\n",
       "       2, 2, 2, 2, 2, 2, 2, 2, 2, 2, 2, 2, 1, 3, 3, 3, 2, 3, 3, 2, 2, 2,\n",
       "       2, 2, 3, 2, 2, 2, 3, 2, 3, 2, 2, 2, 2, 3, 2, 2, 5, 2, 2, 2, 2, 2,\n",
       "       2, 3, 2, 2, 2, 3, 2, 3, 2, 2, 2, 2, 2, 2, 2, 2, 2, 3, 2, 2, 3, 2,\n",
       "       3, 3, 3, 3, 2, 3, 1, 1, 3, 3, 1, 3, 2, 5, 3, 2, 3, 3, 3, 3, 2, 3,\n",
       "       3, 3, 3, 3, 3, 3, 3, 3, 3, 3, 3, 3, 3, 5, 3, 3, 3, 3, 3, 3, 3, 2,\n",
       "       3, 0, 3, 3, 3, 3, 3, 3, 3, 3, 3, 1, 3, 3, 3, 1, 3, 3, 0, 0, 1, 3,\n",
       "       3, 3, 3, 3, 3, 3, 3, 3, 3, 3, 3, 3, 3, 3, 3, 3, 1, 2, 3, 3, 3, 3,\n",
       "       4, 5, 4, 4, 4, 4, 4, 4, 4, 4, 4, 4, 4, 4, 4, 4, 4, 4, 4, 4, 4, 1,\n",
       "       4, 4, 4, 4, 4, 4, 4, 4, 4, 4, 4, 4, 4, 4, 4, 4, 4, 4, 4, 3, 4, 4,\n",
       "       4, 4, 4, 4, 4, 4, 4, 4, 4, 4, 4, 4, 4, 4, 5, 4, 4, 4, 4, 4, 4, 4,\n",
       "       4, 4, 4, 4, 4, 4, 4, 4, 4, 4, 4, 4, 4, 4, 4, 4, 5, 4, 4, 4, 4, 4,\n",
       "       5, 1, 5, 5, 5, 5, 5, 5, 5, 5, 5, 5, 5, 5, 5, 5, 5, 5, 5, 5, 5, 5,\n",
       "       5, 3, 5, 5, 5, 5, 5, 5, 5, 5, 5, 5, 5, 5, 5, 5, 5, 5, 5, 5, 5, 5,\n",
       "       5, 5, 5, 5, 5, 5, 5, 5, 5, 5, 5, 5, 5, 4, 5, 5, 5, 5, 5, 5, 5, 5,\n",
       "       5, 5, 5, 5, 5, 5, 5, 5, 5, 5, 5, 5, 5, 5, 5, 5, 5, 5, 5, 5, 5, 5],\n",
       "      dtype=int64)>"
      ]
     },
     "execution_count": 34,
     "metadata": {},
     "output_type": "execute_result"
    }
   ],
   "source": [
    "predicted_categories = tf.argmax(y_pred,axis=1)\n",
    "predicted_categories"
   ]
  },
  {
   "cell_type": "code",
   "execution_count": 35,
   "id": "89af39c2-bc30-4ad7-879c-d7122f4b817d",
   "metadata": {},
   "outputs": [
    {
     "data": {
      "text/plain": [
       "<tf.Tensor: shape=(528,), dtype=int32, numpy=\n",
       "array([0, 0, 0, 0, 0, 0, 0, 0, 0, 0, 0, 0, 0, 0, 0, 0, 0, 0, 0, 0, 0, 0,\n",
       "       0, 0, 0, 0, 0, 0, 0, 0, 0, 0, 0, 0, 0, 0, 0, 0, 0, 0, 0, 0, 0, 0,\n",
       "       0, 0, 0, 0, 0, 0, 0, 0, 0, 0, 0, 0, 0, 0, 0, 0, 0, 0, 0, 0, 0, 0,\n",
       "       0, 0, 0, 0, 0, 0, 0, 0, 0, 0, 0, 0, 0, 0, 0, 0, 0, 0, 0, 0, 0, 0,\n",
       "       1, 1, 1, 1, 1, 1, 1, 1, 1, 1, 1, 1, 1, 1, 1, 1, 1, 1, 1, 1, 1, 1,\n",
       "       1, 1, 1, 1, 1, 1, 1, 1, 1, 1, 1, 1, 1, 1, 1, 1, 1, 1, 1, 1, 1, 1,\n",
       "       1, 1, 1, 1, 1, 1, 1, 1, 1, 1, 1, 1, 1, 1, 1, 1, 1, 1, 1, 1, 1, 1,\n",
       "       1, 1, 1, 1, 1, 1, 1, 1, 1, 1, 1, 1, 1, 1, 1, 1, 1, 1, 1, 1, 1, 1,\n",
       "       2, 2, 2, 2, 2, 2, 2, 2, 2, 2, 2, 2, 2, 2, 2, 2, 2, 2, 2, 2, 2, 2,\n",
       "       2, 2, 2, 2, 2, 2, 2, 2, 2, 2, 2, 2, 2, 2, 2, 2, 2, 2, 2, 2, 2, 2,\n",
       "       2, 2, 2, 2, 2, 2, 2, 2, 2, 2, 2, 2, 2, 2, 2, 2, 2, 2, 2, 2, 2, 2,\n",
       "       2, 2, 2, 2, 2, 2, 2, 2, 2, 2, 2, 2, 2, 2, 2, 2, 2, 2, 2, 2, 2, 2,\n",
       "       3, 3, 3, 3, 3, 3, 3, 3, 3, 3, 3, 3, 3, 3, 3, 3, 3, 3, 3, 3, 3, 3,\n",
       "       3, 3, 3, 3, 3, 3, 3, 3, 3, 3, 3, 3, 3, 3, 3, 3, 3, 3, 3, 3, 3, 3,\n",
       "       3, 3, 3, 3, 3, 3, 3, 3, 3, 3, 3, 3, 3, 3, 3, 3, 3, 3, 3, 3, 3, 3,\n",
       "       3, 3, 3, 3, 3, 3, 3, 3, 3, 3, 3, 3, 3, 3, 3, 3, 3, 3, 3, 3, 3, 3,\n",
       "       4, 4, 4, 4, 4, 4, 4, 4, 4, 4, 4, 4, 4, 4, 4, 4, 4, 4, 4, 4, 4, 4,\n",
       "       4, 4, 4, 4, 4, 4, 4, 4, 4, 4, 4, 4, 4, 4, 4, 4, 4, 4, 4, 4, 4, 4,\n",
       "       4, 4, 4, 4, 4, 4, 4, 4, 4, 4, 4, 4, 4, 4, 4, 4, 4, 4, 4, 4, 4, 4,\n",
       "       4, 4, 4, 4, 4, 4, 4, 4, 4, 4, 4, 4, 4, 4, 4, 4, 4, 4, 4, 4, 4, 4,\n",
       "       5, 5, 5, 5, 5, 5, 5, 5, 5, 5, 5, 5, 5, 5, 5, 5, 5, 5, 5, 5, 5, 5,\n",
       "       5, 5, 5, 5, 5, 5, 5, 5, 5, 5, 5, 5, 5, 5, 5, 5, 5, 5, 5, 5, 5, 5,\n",
       "       5, 5, 5, 5, 5, 5, 5, 5, 5, 5, 5, 5, 5, 5, 5, 5, 5, 5, 5, 5, 5, 5,\n",
       "       5, 5, 5, 5, 5, 5, 5, 5, 5, 5, 5, 5, 5, 5, 5, 5, 5, 5, 5, 5, 5, 5])>"
      ]
     },
     "execution_count": 35,
     "metadata": {},
     "output_type": "execute_result"
    }
   ],
   "source": [
    "y_true = tf.concat([y for x,y in test_set],axis=0)\n",
    "y_true"
   ]
  },
  {
   "cell_type": "markdown",
   "id": "96e5dc3e-5dcc-415b-b2c0-45d307fe2d64",
   "metadata": {},
   "source": [
    "# Precision and Recall"
   ]
  },
  {
   "cell_type": "code",
   "execution_count": 36,
   "id": "e06598a4-9337-4b19-8147-43690a5146b7",
   "metadata": {},
   "outputs": [],
   "source": [
    "from sklearn.metrics import classification_report"
   ]
  },
  {
   "cell_type": "code",
   "execution_count": 37,
   "id": "efd447ad-5a29-4900-aa4a-3d813bd5ee84",
   "metadata": {},
   "outputs": [
    {
     "name": "stdout",
     "output_type": "stream",
     "text": [
      "                       precision    recall  f1-score   support\n",
      "\n",
      "    narrow_brown_spot       0.95      0.95      0.95        88\n",
      "bacterial_leaf_blight       0.88      0.84      0.86        88\n",
      "           brown_spot       0.91      0.80      0.85        88\n",
      "              healthy       0.71      0.80      0.75        88\n",
      "           leaf_blast       0.99      0.94      0.97        88\n",
      "           leaf_scald       0.88      0.97      0.92        88\n",
      "\n",
      "             accuracy                           0.88       528\n",
      "            macro avg       0.89      0.88      0.88       528\n",
      "         weighted avg       0.89      0.88      0.88       528\n",
      "\n"
     ]
    }
   ],
   "source": [
    "print(classification_report(y_true,predicted_categories,target_names=class_names))"
   ]
  },
  {
   "cell_type": "markdown",
   "id": "257891af-794d-4f72-bb16-21edf9075763",
   "metadata": {},
   "source": [
    "# Confusion Matrix"
   ]
  },
  {
   "cell_type": "code",
   "execution_count": 38,
   "id": "9b4303c8-d786-48e6-b6f7-481688378f70",
   "metadata": {},
   "outputs": [
    {
     "data": {
      "text/plain": [
       "array([[84,  0,  0,  1,  0,  3],\n",
       "       [ 1, 74,  1,  9,  0,  3],\n",
       "       [ 0,  1, 70, 16,  0,  1],\n",
       "       [ 3,  7,  6, 70,  0,  2],\n",
       "       [ 0,  1,  0,  1, 83,  3],\n",
       "       [ 0,  1,  0,  1,  1, 85]], dtype=int64)"
      ]
     },
     "execution_count": 38,
     "metadata": {},
     "output_type": "execute_result"
    }
   ],
   "source": [
    "from sklearn.metrics import confusion_matrix\n",
    "cm = confusion_matrix(y_true,predicted_categories)\n",
    "cm"
   ]
  },
  {
   "cell_type": "markdown",
   "id": "43c9d059-c25b-479a-9873-6d7753f17ddb",
   "metadata": {},
   "source": [
    "#### confusion matrix visualization"
   ]
  },
  {
   "cell_type": "code",
   "execution_count": 39,
   "id": "a15b5509-39ea-43a9-8296-f7d9bc90e09d",
   "metadata": {},
   "outputs": [
    {
     "data": {
      "image/png": "[encoded data removed]",
      "text/plain": [
       "<Figure size 1000x1000 with 2 Axes>"
      ]
     },
     "metadata": {},
     "output_type": "display_data"
    }
   ],
   "source": [
    "plt.figure(figsize=(10,10))\n",
    "sns.heatmap(cm,annot=True,annot_kws={'size':10})\n",
    "plt.xlabel(\"Predicted Class\",fontsize=13)\n",
    "plt.ylabel(\"Actual Class\",fontsize=13)\n",
    "plt.title(\"Plant Disease Prediction Confusion Matrix\",fontsize=15)\n",
    "plt.show()"
   ]
  },
  {
   "cell_type": "code",
   "execution_count": null,
   "id": "f2b08c0d-e5b7-45d2-9774-651a06acadc6",
   "metadata": {},
   "outputs": [],
   "source": []
  }
 ],
 "metadata": {
  "kernelspec": {
   "display_name": "Python 3 (ipykernel)",
   "language": "python",
   "name": "python3"
  },
  "language_info": {
   "codemirror_mode": {
    "name": "ipython",
    "version": 3
   },
   "file_extension": ".py",
   "mimetype": "text/x-python",
   "name": "python",
   "nbconvert_exporter": "python",
   "pygments_lexer": "ipython3",
   "version": "3.11.7"
  }
 },
 "nbformat": 4,
 "nbformat_minor": 5
}
